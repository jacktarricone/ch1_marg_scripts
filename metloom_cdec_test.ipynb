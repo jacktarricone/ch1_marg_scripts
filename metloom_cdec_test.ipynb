{
 "cells": [
  {
   "cell_type": "code",
   "execution_count": 1,
   "id": "2c914dbc-c391-483b-8253-df65c4a3b13b",
   "metadata": {},
   "outputs": [],
   "source": [
    "from metloom.pointdata import CDECPointData\n",
    "from metloom.variables import CdecStationVariables\n",
    "import geopandas as gpd\n",
    "from datetime import datetime\n",
    "from metloom.pointdata import SnotelPointData"
   ]
  },
  {
   "cell_type": "code",
   "execution_count": 9,
   "id": "7093a43b-11ba-405a-bde1-1b7ef16de3a3",
   "metadata": {},
   "outputs": [
    {
     "name": "stdout",
     "output_type": "stream",
     "text": [
      "                    name   id datasource   \n",
      "0           WRIGHTS LAKE  WRG       CDEC  \\\n",
      "1            LYONS CREEK  LYN       CDEC   \n",
      "2           LAKE AUDRAIN  ABN       CDEC   \n",
      "3            ONION CREEK  ONN       CDEC   \n",
      "4                HUYSINK  HYS       CDEC   \n",
      "5               PHILLIPS  PHL       CDEC   \n",
      "6          MIRANDA CABIN  MCB       CDEC   \n",
      "7       DIAMOND CROSSING  DMN       CDEC   \n",
      "8         WABENA MEADOWS  WBM       CDEC   \n",
      "9            ECHO SUMMIT  ECS       CDEC   \n",
      "10         TAMARACK FLAT  TMF       CDEC   \n",
      "11           SILVER LAKE  SIL       CDEC   \n",
      "12     LOWER CARSON PASS  LCP       CDEC   \n",
      "13           CAPLES LAKE  CAP       CDEC   \n",
      "14           TALBOT CAMP  TBC       CDEC   \n",
      "15             ICE HOUSE  IHS       CDEC   \n",
      "16  LOST CORNER MOUNTAIN  LCR       CDEC   \n",
      "17          ROBBS VALLEY  RBV       CDEC   \n",
      "18                 ALPHA  APH       CDEC   \n",
      "\n",
      "                                    geometry  \n",
      "0   POINT Z (-120.23300 38.84700 6900.00000)  \n",
      "1   POINT Z (-120.24300 38.81200 6700.00000)  \n",
      "2   POINT Z (-120.03932 38.81983 7300.00000)  \n",
      "3   POINT Z (-120.35800 39.27500 6100.00000)  \n",
      "4   POINT Z (-120.52963 39.28142 6600.00000)  \n",
      "5   POINT Z (-120.07200 38.81800 6800.00000)  \n",
      "6   POINT Z (-120.36200 39.12000 6200.00000)  \n",
      "7   POINT Z (-120.28300 39.11200 6050.00000)  \n",
      "8   POINT Z (-120.40200 39.22700 6300.00000)  \n",
      "9   POINT Z (-120.03898 38.82852 7450.00000)  \n",
      "10  POINT Z (-120.10300 38.80300 6550.00000)  \n",
      "11  POINT Z (-120.11820 38.67960 7100.00000)  \n",
      "12  POINT Z (-119.99800 38.69300 8400.00000)  \n",
      "13  POINT Z (-120.04158 38.71079 8000.00000)  \n",
      "14  POINT Z (-120.37700 39.19300 5750.00000)  \n",
      "15  POINT Z (-120.37500 38.81200 5300.00000)  \n",
      "16  POINT Z (-120.21500 39.01700 7500.00000)  \n",
      "17  POINT Z (-120.38000 38.92200 5600.00000)  \n",
      "18  POINT Z (-120.21564 38.80414 7600.00000)  \n"
     ]
    }
   ],
   "source": [
    "fp = \"/Users/jacktarricone/ch1_margulis/vectors/ca_basins/american.gpkg\"\n",
    "obj = gpd.read_file(fp)\n",
    "\n",
    "vrs = [\n",
    "    CdecStationVariables.SWE,\n",
    "    CdecStationVariables.SNOWDEPTH\n",
    "]\n",
    "\n",
    "points = CDECPointData.points_from_geometry(obj, vrs, snow_courses=True)\n",
    "df = points.to_dataframe()\n",
    "print(df)"
   ]
  },
  {
   "cell_type": "code",
   "execution_count": 12,
   "id": "450116a8-f880-4e92-a9c5-157ef7f35be0",
   "metadata": {},
   "outputs": [
    {
     "name": "stdout",
     "output_type": "stream",
     "text": [
      "None\n"
     ]
    }
   ],
   "source": [
    "cdec_point = CDECPointData(\"WRG:CA:CDEC\", \"MyStation\")\n",
    "df = cdec_point.get_daily_data(\n",
    "    datetime(2020, 1, 2), datetime(2020, 1, 20),\n",
    "    [cdec_point.ALLOWED_VARIABLES.SWE]\n",
    ")\n",
    "print(df)"
   ]
  },
  {
   "cell_type": "code",
   "execution_count": null,
   "id": "ae8b41b5-6679-4375-b3c4-13de367cd665",
   "metadata": {},
   "outputs": [],
   "source": []
  }
 ],
 "metadata": {
  "kernelspec": {
   "display_name": "Python 3 (ipykernel)",
   "language": "python",
   "name": "python3"
  },
  "language_info": {
   "codemirror_mode": {
    "name": "ipython",
    "version": 3
   },
   "file_extension": ".py",
   "mimetype": "text/x-python",
   "name": "python",
   "nbconvert_exporter": "python",
   "pygments_lexer": "ipython3",
   "version": "3.9.16"
  }
 },
 "nbformat": 4,
 "nbformat_minor": 5
}
